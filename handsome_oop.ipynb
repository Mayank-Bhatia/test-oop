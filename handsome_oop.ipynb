{
 "cells": [
  {
   "cell_type": "markdown",
   "metadata": {},
   "source": [
    "### Basic example of polymophism with division classes."
   ]
  },
  {
   "cell_type": "code",
   "execution_count": 1,
   "metadata": {},
   "outputs": [],
   "source": [
    "import abc\n",
    "\n",
    "class BaseDivisionOp:\n",
    "    __metadata__ = abc.ABCMeta\n",
    "    \n",
    "    safe_div_eps = 1e-6\n",
    "    \n",
    "    @abc.abstractclassmethod\n",
    "    def calculate(self):\n",
    "        raise NotImplementedError(\"Please implement 'calculate' method.\")\n",
    "    \n",
    "    @abc.abstractclassmethod\n",
    "    def safe_calculate(self):\n",
    "        \"\"\" To handle division by zero. \"\"\"\n",
    "        raise NotImplementedError(\"Please implement 'safe_calculate' method.\")"
   ]
  },
  {
   "cell_type": "code",
   "execution_count": 2,
   "metadata": {},
   "outputs": [],
   "source": [
    "class BasicDivide(BaseDivisionOp):\n",
    "    def __init__(self, dividend, divisor):\n",
    "        self.dividend = dividend\n",
    "        self.divisor = divisor\n",
    "    \n",
    "    def calculate(self):\n",
    "        return self.dividend / self.divisor\n",
    "    \n",
    "    def safe_calculate(self):\n",
    "        return self.dividend / (self.divisor + BaseDivisionOp.safe_div_eps)\n",
    "\n",
    "\n",
    "class ModDivide(BaseDivisionOp):    \n",
    "    def __init__(self, dividend, divisor):\n",
    "        self.dividend = dividend\n",
    "        self.divisor = divisor\n",
    "    \n",
    "    def calculate(self):\n",
    "        return self.dividend % self.divisor\n",
    "    \n",
    "    def safe_calculate(self):\n",
    "        return self.dividend % (self.divisor + BaseDivisionOp.safe_div_eps)"
   ]
  },
  {
   "cell_type": "code",
   "execution_count": 3,
   "metadata": {},
   "outputs": [],
   "source": [
    "class MyDivisionOp:\n",
    "    \n",
    "    def my_divide(self, op):\n",
    "        try:\n",
    "            result = op.calculate()\n",
    "        except ZeroDivisionError:\n",
    "            result = op.safe_calculate()\n",
    "            print(\"Performed numerically stable division using epsilon\", op.safe_div_eps)\n",
    "        return result"
   ]
  },
  {
   "cell_type": "code",
   "execution_count": 4,
   "metadata": {},
   "outputs": [
    {
     "name": "stdout",
     "output_type": "stream",
     "text": [
      "3.3333333333333335\n"
     ]
    }
   ],
   "source": [
    "dividend, divisior = [20,6]\n",
    "# dividend, divisior = [1,0]\n",
    "div_op = BasicDivide(dividend, divisior)\n",
    "# div_op = ModDivide(dividend, divisior)\n",
    "\n",
    "result_obj = MyDivisionOp()\n",
    "result = result_obj.my_divide(div_op)\n",
    "print(result)"
   ]
  },
  {
   "cell_type": "markdown",
   "metadata": {},
   "source": [
    "### Inheritance and method overloading"
   ]
  },
  {
   "cell_type": "code",
   "execution_count": 5,
   "metadata": {},
   "outputs": [],
   "source": [
    "class BaseCriminal:\n",
    "    __metadata__ = abc.ABCMeta\n",
    "    \n",
    "    @abc.abstractclassmethod\n",
    "    def declare_affiliation(self):\n",
    "        raise NotImplementedError(\"Please implement 'declare_affiliation' method.\")\n",
    "\n",
    "\n",
    "class RegularCriminal(BaseCriminal):\n",
    "    def __init__(self, name, gang_affiliation):\n",
    "        self.name = name\n",
    "        self.gang_affiliation = gang_affiliation\n",
    "    \n",
    "    def declare_affiliation(self):\n",
    "        print(\"{} is part of the {} !\".format(self.name, self.gang_affiliation))\n",
    "    \n",
    "\n",
    "class TrueCriminal(RegularCriminal):\n",
    "    def __init__(self, name, gang_affiliation, rank=0):\n",
    "        self.name = name\n",
    "        self.gang_affiliation = gang_affiliation\n",
    "        self.rank = rank\n",
    "        \n",
    "        super(RegularCriminal).__init__()  # inherit\n",
    "    \n",
    "    def declare_affiliation(self):\n",
    "        if self.gang_affiliation == \"Mafia\":\n",
    "            print(\"{} a wiseguy !\".format(self.name))\n",
    "        else:\n",
    "            super().declare_affiliation()\n",
    "            print(\"{} is not a true criminal !\".format(self.name))"
   ]
  },
  {
   "cell_type": "code",
   "execution_count": 6,
   "metadata": {},
   "outputs": [
    {
     "name": "stdout",
     "output_type": "stream",
     "text": [
      "Vigen is part of the Yakuza !\n",
      "Vigen is not a true criminal !\n"
     ]
    }
   ],
   "source": [
    "vigen = TrueCriminal(name=\"Vigen\", gang_affiliation=\"Yakuza\")\n",
    "# vigen = TrueCriminal(name=\"Vigen\", gang_affiliation=\"Mafia\")\n",
    "\n",
    "vigen.declare_affiliation()"
   ]
  },
  {
   "cell_type": "code",
   "execution_count": null,
   "metadata": {},
   "outputs": [],
   "source": []
  }
 ],
 "metadata": {
  "kernelspec": {
   "display_name": "Python 3",
   "language": "python",
   "name": "python3"
  },
  "language_info": {
   "codemirror_mode": {
    "name": "ipython",
    "version": 3
   },
   "file_extension": ".py",
   "mimetype": "text/x-python",
   "name": "python",
   "nbconvert_exporter": "python",
   "pygments_lexer": "ipython3",
   "version": "3.7.4"
  }
 },
 "nbformat": 4,
 "nbformat_minor": 2
}
